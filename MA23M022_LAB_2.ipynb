{
 "cells": [
  {
   "cell_type": "code",
   "execution_count": 3,
   "id": "bddbbd32",
   "metadata": {},
   "outputs": [
    {
     "name": "stdout",
     "output_type": "stream",
     "text": [
      "Using continue statement: [56, 112, 168, 224, 280, 336, 392, 448, 504, 560, 616, 672, 728, 784, 840, 896, 952]\n",
      "Using pass statement: [56, 112, 168, 224, 280, 336, 392, 448, 504, 560, 616, 672, 728, 784, 840, 896, 952]\n"
     ]
    }
   ],
   "source": [
    "#Q.1. Write a program to print numbers divisible by both 7 and 8. Numbers between 1 and 1000.\n",
    "\n",
    "#Q.1.1 Using continue statement\n",
    "\n",
    "list1 = []\n",
    "for i in range(1, 1001):\n",
    "    if (((i%7) == 0) and ((i%8) == 0)):\n",
    "        list1.append(i)\n",
    "    else:\n",
    "        continue\n",
    "        \n",
    "print('Using continue statement:', list1)\n",
    "\n",
    "#Q.1.2 Using pass statement\n",
    "list2 = []\n",
    "for i in range(1, 1001):\n",
    "    if (((i%7) == 0) and ((i%8) == 0)):\n",
    "        list2.append(i)\n",
    "    else:\n",
    "        pass\n",
    "        \n",
    "print('Using pass statement:', list2)"
   ]
  },
  {
   "cell_type": "code",
   "execution_count": 5,
   "id": "dba05d8c",
   "metadata": {},
   "outputs": [
    {
     "name": "stdout",
     "output_type": "stream",
     "text": [
      "the addition of all even digits 24\n",
      "the addition of all odd digits 29\n"
     ]
    }
   ],
   "source": [
    "#Q.2:-  Number 34567222541147 has been given. Print the addition of all even digits and the addition of all odd digits.\n",
    "\n",
    "num = 34567222541147\n",
    "sum_even_digit = 0\n",
    "sum_odd_digit = 0\n",
    "while(num != 0):\n",
    "    rem = num%10\n",
    "    if(rem%2 == 0):\n",
    "        sum_even_digit += rem\n",
    "    else:\n",
    "        sum_odd_digit += rem\n",
    "    num = num//10\n",
    "print('the addition of all even digits',sum_even_digit)\n",
    "print('the addition of all odd digits',sum_odd_digit)"
   ]
  },
  {
   "cell_type": "code",
   "execution_count": 69,
   "id": "9c181a81",
   "metadata": {},
   "outputs": [
    {
     "name": "stdout",
     "output_type": "stream",
     "text": [
      "Enter the length of the list4\n",
      "3\n",
      "8\n",
      "5\n",
      "7\n",
      "[3, 8, 5, 7]\n",
      "finding maximum and minimum naumber using conditional expression: maximum = 8 minimum = 3\n",
      "finding maximum and minimum naumber using max and min function: maximum = 8 minimum = 3\n"
     ]
    }
   ],
   "source": [
    "#Q.3:- Describe conditional expression.\n",
    "# Write a program to print the maximum and minimum numbers from a list using conditional expression.\n",
    "# Use the max () and min () functions to verify your output.\n",
    "\n",
    "list1 = []\n",
    "length = int(input('Enter the length of the list'))\n",
    "for i in range(length):\n",
    "    element = int(input())\n",
    "    list1.append(element)\n",
    "print(list1)\n",
    "max1 = list1[0]\n",
    "min1 = list1[0]\n",
    "for ele in list1:\n",
    "    if(max1<ele):\n",
    "        max1 = ele\n",
    "    if(min1>ele):\n",
    "        min1 = ele\n",
    "print('finding maximum and minimum naumber using conditional expression: maximum =',max1,'minimum =', min1)\n",
    "print('finding maximum and minimum naumber using max and min function: maximum =', max(list1),'minimum =', min(list1))"
   ]
  },
  {
   "cell_type": "code",
   "execution_count": 42,
   "id": "2b591bfa",
   "metadata": {},
   "outputs": [
    {
     "name": "stdout",
     "output_type": "stream",
     "text": [
      "enter the number of rows:8\n",
      "       1 \n",
      "      1 1 \n",
      "     1 2 1 \n",
      "    1 3 3 1 \n",
      "   1 4 6 4 1 \n",
      "  1 5 10 10 5 1 \n",
      " 1 6 15 20 15 6 1 \n",
      "1 7 21 35 35 21 7 1 \n"
     ]
    }
   ],
   "source": [
    "#Q.4:- Pascal’s  Triangle : Print the following pattern for the given N number of rows.\n",
    "\n",
    "import math as m\n",
    "N =int(input('enter the number of rows:'))\n",
    "for i in range(N):\n",
    "    for k in range((N-1)-i):\n",
    "        print(end=\" \")\n",
    "    for j in range(i+1):\n",
    "        num = m.factorial(i)/(m.factorial(j)*m.factorial(i-j))\n",
    "        num = int(num)\n",
    "        print(num, end=\" \")\n",
    "    print()  "
   ]
  },
  {
   "cell_type": "code",
   "execution_count": 1,
   "id": "434e42fa",
   "metadata": {},
   "outputs": [
    {
     "name": "stdout",
     "output_type": "stream",
     "text": [
      "enter the integer:121\n",
      "The entered integer is: 121\n",
      "121\n",
      "The number is palindrome\n"
     ]
    }
   ],
   "source": [
    "#Q.5:- A palindrome sentence is a phrase or sentence that reads the same forward as it does backward,\n",
    "#       ignoring spaces, punctuation, and capitalization.\n",
    "\n",
    "\n",
    "#Q.5.1:-\n",
    "int1 = int(input('enter the integer:'))\n",
    "print('The entered integer is:', int1)\n",
    "actual_num = int1\n",
    "reverse_num = 0\n",
    "while(int1 != 0):\n",
    "    rem = int1%10\n",
    "    reverse_num = (reverse_num*10)+rem\n",
    "    int1 = int1//10\n",
    "print(reverse_num)\n",
    "if(actual_num == reverse_num):\n",
    "    print('The number is palindrome')\n",
    "else:\n",
    "    print('The number is not palindrome')\n"
   ]
  },
  {
   "cell_type": "code",
   "execution_count": 5,
   "id": "b1f021ad",
   "metadata": {},
   "outputs": [
    {
     "name": "stdout",
     "output_type": "stream",
     "text": [
      "True\n"
     ]
    }
   ],
   "source": [
    "#Q.5.2:-\n",
    "\n",
    "string = \"Was it a car or a cat I saw?\"\n",
    "string1 = ''.join(c.lower() for c in string if c.isalnum())\n",
    "string_reverse = string1[: :-1]\n",
    "if(string1 == string_reverse):\n",
    "    print('True')\n",
    "else:\n",
    "    print('False')"
   ]
  },
  {
   "cell_type": "code",
   "execution_count": 9,
   "id": "71007112",
   "metadata": {},
   "outputs": [
    {
     "name": "stdout",
     "output_type": "stream",
     "text": [
      "enter the integer value4\n",
      "The corresponding asci value is 65\n",
      "The corresponding character is: A\n",
      "A \n",
      "B B \n",
      "C C C \n",
      "D D D D \n"
     ]
    }
   ],
   "source": [
    "#Q.6:-\n",
    "\n",
    "#Python ord() and chr() are built-in functions.\n",
    "# ord() used to convert a character to an integer and chr() used to convert an integer to a character\n",
    "#Python ord() and chr() functions are exactly opposite of each other.\n",
    "\n",
    "N = int(input('enter the integer value'))\n",
    "x = ord('A')\n",
    "print('The corresponding asci value is', x)\n",
    "\n",
    "y = chr(65)\n",
    "print('The corresponding character is:', y)\n",
    "\n",
    "for i in range(N):\n",
    "    asci_value = ord('A') + i\n",
    "    for j in range(i+1):\n",
    "        print(chr(asci_value), end =\" \")\n",
    "    print()  "
   ]
  },
  {
   "cell_type": "code",
   "execution_count": 52,
   "id": "28c27554",
   "metadata": {},
   "outputs": [
    {
     "name": "stdout",
     "output_type": "stream",
     "text": [
      "['Mark', 'Mohan']\n",
      "['Antony', 'Raj']\n",
      "['Antony Mark', 'Raj Mohan']\n",
      "['Mark Antony', 'Mohan Raj']\n"
     ]
    }
   ],
   "source": [
    "#Q.7:-\n",
    "\n",
    "input_list =  ['Mark Antony', 'Mohan Raj']\n",
    "first_name = []\n",
    "last_name = []\n",
    "for ele in input_list:\n",
    "    name = ele.split()\n",
    "    first_name.append(name[0])\n",
    "    last_name.append(name[1])\n",
    "print(first_name)\n",
    "print(last_name)\n",
    "\n",
    "last_first = []\n",
    "for ele1, ele2 in zip(last_name, first_name):\n",
    "    last_first.append(ele1+\" \"+ele2)\n",
    "print(last_first)\n",
    "\n",
    "last_first.sort()\n",
    "sorted_list = []\n",
    "for ele in last_first:\n",
    "    name = ele.split()\n",
    "    sorted_list.append(name[1]+' '+name[0])\n",
    "print(sorted_list)"
   ]
  },
  {
   "cell_type": "code",
   "execution_count": 40,
   "id": "acf8851c",
   "metadata": {},
   "outputs": [
    {
     "name": "stdout",
     "output_type": "stream",
     "text": [
      "enter the elements: 2 4 5\n",
      "samallest: 2\n"
     ]
    }
   ],
   "source": [
    "#Q.8 :-  WAP to find the minimum of 3 numbers\n",
    "\n",
    "#Q.8.1:- Using with conditional expressions. (No loops should be used)\n",
    "\n",
    "a , b, c = input('enter the elements: ').split()\n",
    "a = int(a)\n",
    "b = int(b)\n",
    "c = int(c)\n",
    "if(a<b<c):\n",
    "    print('samallest:',a)\n",
    "if(b<c<a):\n",
    "    print('smallest:',b)\n",
    "if(c<b<a):\n",
    "    print('smallest:',c)"
   ]
  },
  {
   "cell_type": "code",
   "execution_count": 41,
   "id": "d1350801",
   "metadata": {},
   "outputs": [
    {
     "name": "stdout",
     "output_type": "stream",
     "text": [
      "enter the elements: 6 7 4\n",
      "smallest: 4\n"
     ]
    }
   ],
   "source": [
    "#Q.8.2:- Using with nested conditional expression. (No loops should be used)\n",
    "\n",
    "a , b, c = input('enter the elements: ').split()\n",
    "a = int(a)\n",
    "b = int(b)\n",
    "c = int(c)\n",
    "\n",
    "if(a<b):\n",
    "    if(a<c):\n",
    "        print('Samallest:',a)\n",
    "    else:\n",
    "        print('smallest:',c)\n",
    "else:\n",
    "    if(b<c):\n",
    "        print('Samallest:',b)\n",
    "    else:\n",
    "        print('smallest:',c)"
   ]
  },
  {
   "cell_type": "code",
   "execution_count": 44,
   "id": "51b58534",
   "metadata": {},
   "outputs": [
    {
     "name": "stdout",
     "output_type": "stream",
     "text": [
      "enter the elements: 67 34 56 45\n",
      "Samallest: 34\n"
     ]
    }
   ],
   "source": [
    "#Q.8.3 :- similar to problem (8.2), find the minimum of 4 numbers.\n",
    "\n",
    "p, q, r, s = input('enter the elements: ').split()\n",
    "p = int(p)\n",
    "q = int(q)\n",
    "r = int(r)\n",
    "s = int(s)\n",
    "\n",
    "if(p<q):\n",
    "    if(p<r):\n",
    "        if(p<s):\n",
    "            print('Samallest:',p)\n",
    "        else:\n",
    "            print('smallest:',s)\n",
    "    else:\n",
    "        if(r<s):\n",
    "            print('Samallest:',r)\n",
    "        else:\n",
    "            print('smallest:',s)\n",
    "else:\n",
    "    if(q<r):\n",
    "        if(q<s):\n",
    "            print('Samallest:',q)\n",
    "        else:\n",
    "            print('smallest:',s)\n",
    "    else:\n",
    "        if(r<s):\n",
    "            print('Samallest:',r)\n",
    "        else:\n",
    "            print('smallest:',s)"
   ]
  },
  {
   "cell_type": "code",
   "execution_count": 66,
   "id": "f3b34993",
   "metadata": {},
   "outputs": [
    {
     "name": "stdout",
     "output_type": "stream",
     "text": [
      "Using append() function: ['Mathematics', 'Engineering Design', 'CSE', 'Physics', 'Electrical Engineering', 'Civil Engineering']\n",
      "Using remove() function: ['Mathematics', 'Engineering Design', 'CSE', 'Electrical Engineering', 'Civil Engineering']\n",
      "Using pop() function: ['Mathematics', 'Engineering Design', 'CSE', 'Civil Engineering']\n",
      "Using insert() function: ['Mathematics', 'Engineering Design', 'CSE', 'Mechanical Engineeing', 'Civil Engineering']\n",
      "Using reverse() function: ['Civil Engineering', 'Mechanical Engineeing', 'CSE', 'Engineering Design', 'Mathematics']\n",
      "Using sort() function: ['CSE', 'Civil Engineering', 'Engineering Design', 'Mathematics', 'Mechanical Engineeing']\n",
      "The no of Physics department in the list is: 0\n",
      "The index number of the Mathematics department is: 3\n",
      "Using extend() function: ['CSE', 'Civil Engineering', 'Engineering Design', 'Mathematics', 'Mechanical Engineeing', 'Chemical Engineering', 'Management']\n",
      "Using slice() function: ['Civil Engineering', 'Mathematics', 'Chemical Engineering']\n",
      "Using clear function: []\n"
     ]
    }
   ],
   "source": [
    "# Q.9:- Create a list of departments in IIT Madras (Minimum 5 ) and perform the following operations:\n",
    "\n",
    "list1 = ['Mathematics', 'Engineering Design', 'CSE', 'Physics', 'Electrical Engineering']\n",
    "\n",
    "list1.append('Civil Engineering')  # using append() function\n",
    "print('Using append() function:',list1)\n",
    "\n",
    "list1.remove('Physics')    # using remove() function\n",
    "print('Using remove() function:',list1)\n",
    "\n",
    "list1.pop(3)           # using pop() function\n",
    "print('Using pop() function:',list1)\n",
    "\n",
    "list1.insert(3, 'Mechanical Engineeing')   # using insert() function\n",
    "print('Using insert() function:',list1)\n",
    "\n",
    "list1.reverse()     # using reverse() function\n",
    "print('Using reverse() function:',list1)\n",
    "\n",
    "list1.sort()      # using sort() function\n",
    "print('Using sort() function:',list1)\n",
    "\n",
    "num = list1.count('Physics')      # using count() function\n",
    "print('The no of Physics department in the list is:', num)\n",
    "\n",
    "ind = list1.index('Mathematics')   # using index() function\n",
    "print('The index number of the Mathematics department is:', ind)\n",
    "\n",
    "\n",
    "list2 = ['Chemical Engineering', 'Management']\n",
    "list1.extend(list2)        # using extend() function\n",
    "print('Using extend() function:',list1)\n",
    "\n",
    "slice_obj = slice(1, 7, 2)  # using slice() function\n",
    "print('Using slice() function:',list1[slice_obj])\n",
    "\n",
    "list1.clear()       # using clear function.\n",
    "print('Using clear function:',list1)"
   ]
  },
  {
   "cell_type": "code",
   "execution_count": null,
   "id": "4991824b",
   "metadata": {},
   "outputs": [],
   "source": []
  }
 ],
 "metadata": {
  "kernelspec": {
   "display_name": "Python 3 (ipykernel)",
   "language": "python",
   "name": "python3"
  },
  "language_info": {
   "codemirror_mode": {
    "name": "ipython",
    "version": 3
   },
   "file_extension": ".py",
   "mimetype": "text/x-python",
   "name": "python",
   "nbconvert_exporter": "python",
   "pygments_lexer": "ipython3",
   "version": "3.11.5"
  }
 },
 "nbformat": 4,
 "nbformat_minor": 5
}
