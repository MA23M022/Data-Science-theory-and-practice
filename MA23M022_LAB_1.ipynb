{
 "cells": [
  {
   "cell_type": "code",
   "execution_count": null,
   "id": "d2265879",
   "metadata": {},
   "outputs": [],
   "source": []
  },
  {
   "cell_type": "code",
   "execution_count": 141,
   "id": "09be6914",
   "metadata": {},
   "outputs": [
    {
     "name": "stdout",
     "output_type": "stream",
     "text": [
      "The value of the expression is: 35.44789594116947\n"
     ]
    }
   ],
   "source": [
    "#Question No. 1.1 :-\n",
    "\n",
    "import math as m\n",
    "\n",
    "value = 7*(m.log(3))*((m.log(5))+(m.log(m.e**3)))\n",
    "print(\"The value of the expression is:\", value)"
   ]
  },
  {
   "cell_type": "code",
   "execution_count": 6,
   "id": "9ae8d99a",
   "metadata": {},
   "outputs": [
    {
     "name": "stdout",
     "output_type": "stream",
     "text": [
      "The difference between two concentric circle of diameter 5m and 3m is: 12.566370614359172\n"
     ]
    }
   ],
   "source": [
    "#Question No. 1.2:-\n",
    "\n",
    "from math import pi\n",
    "\n",
    "r1 = 5/2\n",
    "r2 = 3/2\n",
    "diff = pi*((r1**2) - (r2**2))\n",
    "\n",
    "print(\"The difference between two concentric circle of diameter 5m and 3m is:\", diff)"
   ]
  },
  {
   "cell_type": "code",
   "execution_count": 140,
   "id": "75e75263",
   "metadata": {},
   "outputs": [
    {
     "name": "stdout",
     "output_type": "stream",
     "text": [
      "The number of even numbers is : = 37.0, The number of odd numbers is : = 37.0\n"
     ]
    }
   ],
   "source": [
    "#Question No. 2:-\n",
    "#WAP to return the count of odd numbers and even numbers between 7 and 80 (both inclusive) using arithmetic operators \n",
    "#(without using loops) and print it using ‘format strings’ in a single line.\n",
    "#(Refer to the attached file L3_output.py for examples of using formatted strings) \n",
    "\n",
    "no_even = ((80 - 7) + 1)/2\n",
    "no_odd = ((79-6) + 1)/2\n",
    "print(f'The number of even numbers is : = {no_even}, The number of odd numbers is : = {no_odd}')"
   ]
  },
  {
   "cell_type": "code",
   "execution_count": 25,
   "id": "056758c9",
   "metadata": {},
   "outputs": [
    {
     "name": "stdout",
     "output_type": "stream",
     "text": [
      "The type of the data 1.35 is: <class 'float'>\n",
      "The size of the data-type is:  24\n",
      "\n",
      "\n",
      "The type of the data 1 is: <class 'int'>\n",
      "The size of the data-type is:  28\n",
      "\n",
      "\n",
      "The type of the data True is: <class 'bool'>\n",
      "The size of the data-type is:  28\n",
      "\n",
      "\n",
      "The type of the data (1+2j) is: <class 'complex'>\n",
      "The size of the data-type is:  32\n",
      "\n",
      "\n",
      "The type of the data b'\\x02\\x03\\x04' is: <class 'bytes'>\n",
      "The size of the data-type is:  36\n",
      "\n",
      "\n",
      "The type of the data Sourav is: <class 'str'>\n",
      "The size of the data-type is:  55\n"
     ]
    }
   ],
   "source": [
    "#Question No. 3:-\n",
    "\n",
    "#The different types of datatypes are followings:\n",
    "\n",
    "#int\n",
    "#float\n",
    "#complex\n",
    "#bool\n",
    "#string\n",
    "#bytes\n",
    "\n",
    "import sys\n",
    "\n",
    "value2 = 1.35\n",
    "print(\"The type of the data\", value2, \"is:\", type(value2))\n",
    "print(\"The size of the data-type is: \" , sys.getsizeof(value2))\n",
    "print(\"\\n\")\n",
    "\n",
    "value1 = 1\n",
    "print(\"The type of the data\", value1, \"is:\", type(value1))\n",
    "print(\"The size of the data-type is: \" , sys.getsizeof(value1))\n",
    "print(\"\\n\")\n",
    "\n",
    "value4 = 'S' in 'Sourav'\n",
    "print(\"The type of the data\", value4, \"is:\", type(value4))\n",
    "print(\"The size of the data-type is: \" , sys.getsizeof(value4))\n",
    "print(\"\\n\")\n",
    "\n",
    "value3 = 1 + 2j\n",
    "print(\"The type of the data\", value3, \"is:\", type(value3))\n",
    "print(\"The size of the data-type is: \" , sys.getsizeof(value3))\n",
    "print(\"\\n\")\n",
    "\n",
    "value6 = bytes([2, 3, 4])\n",
    "print(\"The type of the data\", value6, \"is:\", type(value6))\n",
    "print(\"The size of the data-type is: \" , sys.getsizeof(value6))\n",
    "print(\"\\n\")\n",
    "\n",
    "value5 = 'Sourav'\n",
    "print(\"The type of the data\", value5, \"is:\", type(value5))\n",
    "print(\"The size of the data-type is: \" , sys.getsizeof(value5))"
   ]
  },
  {
   "cell_type": "code",
   "execution_count": 55,
   "id": "e4e46f4c",
   "metadata": {},
   "outputs": [
    {
     "name": "stdout",
     "output_type": "stream",
     "text": [
      "enter the seed value: 1\n",
      "The random length, wide and height of a cuboid is:  27 82 18\n",
      "The surface area of the cuboid is:  8352\n"
     ]
    }
   ],
   "source": [
    "#Question No. 4:-\n",
    "\n",
    "import random\n",
    "\n",
    "seed_value = int(input(\"enter the seed value: \"))\n",
    "random.seed(seed_value)\n",
    "length = random.randint(10, 100)\n",
    "wide = random.randint(10, 100)\n",
    "height = random.randint(10, 100)\n",
    "print(\"The random length, wide and height of a cuboid is: \",length, wide, height)\n",
    "\n",
    "surface_area = 2*((length*wide) + (wide*height) + (height*length))\n",
    "print(\"The surface area of the cuboid is: \",surface_area)"
   ]
  },
  {
   "cell_type": "code",
   "execution_count": 56,
   "id": "14f6e7de",
   "metadata": {},
   "outputs": [
    {
     "name": "stdout",
     "output_type": "stream",
     "text": [
      "enter the value of co_efficient a: 1\n",
      "enter the value of co_efficient b: -2\n",
      "enter the value of co_efficient c: 1\n",
      "The roots of the quadratic equation 1.0 x^2 + -2.0 x + 1.0 is: 1.0 1.0\n"
     ]
    }
   ],
   "source": [
    "#Question No. 5:-\n",
    "\n",
    "import math as m\n",
    "\n",
    "a = float(input(\"enter the value of co_efficient a: \"))\n",
    "b = float(input(\"enter the value of co_efficient b: \"))\n",
    "c = float(input(\"enter the value of co_efficient c: \"))\n",
    "\n",
    "if a!= 0:\n",
    "    x1 = (-b + m.sqrt(b**2 - (4*a*c)))/(2*a)\n",
    "    x2 = (-b - m.sqrt(b**2 - (4*a*c)))/(2*a)\n",
    "    print(\"The roots of the quadratic equation\",a,\"x^2 +\",b,\"x +\",c,\"is:\", x1, x2)\n",
    "else:\n",
    "    print(\"Sorry, your leading co-efficient a is zero\")"
   ]
  },
  {
   "cell_type": "code",
   "execution_count": 65,
   "id": "38b3de82",
   "metadata": {},
   "outputs": [
    {
     "name": "stdout",
     "output_type": "stream",
     "text": [
      "Enter the value of a and b:12 14\n",
      "The values are: 12 14\n",
      "addition = 26.0\n",
      "Sustraction = -2.0\n",
      "Divison = 0.8571428571428571\n",
      "largest quotient = 0.0\n",
      "remainder = 12.0\n"
     ]
    }
   ],
   "source": [
    "#Question No. 6 :-\n",
    "a, b = input(\"Enter the value of a and b:\").split()\n",
    "print(\"The values are:\", a, b)\n",
    "a = float(a)\n",
    "b = float(b)\n",
    "\n",
    "print(\"addition =\", a+b)       #addition\n",
    "print(\"Sustraction =\", a-b)    #substraction\n",
    "print(\"Divison =\", a/b)           #divison\n",
    "print(\"largest quotient =\", a//b) #largest quotient\n",
    "print(\"remainder =\", a%b)         #remainder"
   ]
  },
  {
   "cell_type": "code",
   "execution_count": 115,
   "id": "28750ba8",
   "metadata": {},
   "outputs": [
    {
     "name": "stdout",
     "output_type": "stream",
     "text": [
      "Learning python is fun\n",
      "Learning datascience is fun\n",
      "LEARNING PYTHON IS FUN\n",
      "fun is python Learning\n",
      "nuf si nohtyp gninraeL\n"
     ]
    }
   ],
   "source": [
    "#Question No. 7:-\n",
    "\n",
    "word1 = ['Learning', 'python', 'is', 'fun']\n",
    "\n",
    "#Q. 7.1:\n",
    "sentence = \" \".join(word1)\n",
    "print(sentence)\n",
    "\n",
    "#Q. 7.2:\n",
    "sen_rep = sentence.replace('python', 'datascience')\n",
    "print(sen_rep)\n",
    "\n",
    "#Q. 7.3:\n",
    "print(sentence.upper())\n",
    "\n",
    "#Q. 7.4:\n",
    "word2 = word1[ : : -1]\n",
    "sen_rearrange = \" \".join(word2)\n",
    "print(sen_rearrange)\n",
    "\n",
    "#Q. 7.5:\n",
    "word3 =[word2[0][: : -1], word2[1][: : -1], word2[2][: : -1], word2[3][: : -1]]\n",
    "sen_reverse = \" \".join(word3)\n",
    "print(sen_reverse)"
   ]
  },
  {
   "cell_type": "code",
   "execution_count": 121,
   "id": "5c395c6e",
   "metadata": {},
   "outputs": [
    {
     "name": "stdout",
     "output_type": "stream",
     "text": [
      "8\n",
      "6\n",
      "<class 'float'>\n",
      "3\n",
      "maximun 9\n",
      "minimum 1\n"
     ]
    }
   ],
   "source": [
    "#Question No. 9:-\n",
    "\n",
    "#power function:\n",
    "a = pow(2,3)\n",
    "print(a)\n",
    "\n",
    "#length function:\n",
    "b = 'Sourav'\n",
    "print(len(b))\n",
    "\n",
    "#type function\n",
    "c = 1.34\n",
    "print(type(c))\n",
    "\n",
    "#absolute function\n",
    "d = abs(-3)\n",
    "print(d)\n",
    "\n",
    "#maximum and minimum function\n",
    "e = [1, 4, 7, 9]\n",
    "f = max(e)\n",
    "print(\"maximun\", f)\n",
    "g = min(e)\n",
    "print(\"minimum\", g)"
   ]
  },
  {
   "cell_type": "code",
   "execution_count": 122,
   "id": "1a02a6fb",
   "metadata": {},
   "outputs": [],
   "source": [
    "#Question No. 8:-\n"
   ]
  },
  {
   "cell_type": "code",
   "execution_count": 142,
   "id": "48b8532f",
   "metadata": {},
   "outputs": [
    {
     "name": "stdout",
     "output_type": "stream",
     "text": [
      "The number of vowels is: 5\n",
      "The sentence is not palindrome\n"
     ]
    }
   ],
   "source": [
    "#Question No. 10:-\n",
    "\n",
    "#Q. 10.1:\n",
    "str = \"Sourav Majhi\"\n",
    "str = str.lower()\n",
    "\n",
    "count = 0\n",
    "for i in str:\n",
    "    if (i=='a' or i=='e' or i=='i' or i=='o' or i=='u'):\n",
    "        count = count + 1\n",
    "print(\"The number of vowels is:\", count)\n",
    "\n",
    "#Q. 10.2:\n",
    "i = 0\n",
    "j = len(str)-1\n",
    "count1 = 0\n",
    "while i<=j:\n",
    "    if str[i] == str[j]:\n",
    "        i = i+1\n",
    "        j = j-1\n",
    "    else:\n",
    "        count1 = 1\n",
    "        break\n",
    "if count1 == 0:\n",
    "    print(\"The string is palindrome\")\n",
    "else:\n",
    "    print(\"The sentence is not palindrome\")   "
   ]
  },
  {
   "cell_type": "code",
   "execution_count": null,
   "id": "8de04029",
   "metadata": {},
   "outputs": [],
   "source": []
  }
 ],
 "metadata": {
  "kernelspec": {
   "display_name": "Python 3 (ipykernel)",
   "language": "python",
   "name": "python3"
  },
  "language_info": {
   "codemirror_mode": {
    "name": "ipython",
    "version": 3
   },
   "file_extension": ".py",
   "mimetype": "text/x-python",
   "name": "python",
   "nbconvert_exporter": "python",
   "pygments_lexer": "ipython3",
   "version": "3.11.5"
  }
 },
 "nbformat": 4,
 "nbformat_minor": 5
}
