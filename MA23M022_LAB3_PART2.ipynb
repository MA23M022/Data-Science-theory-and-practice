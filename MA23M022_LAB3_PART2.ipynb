{
 "cells": [
  {
   "cell_type": "code",
   "execution_count": 1,
   "id": "d7b2fff1",
   "metadata": {},
   "outputs": [
    {
     "name": "stdout",
     "output_type": "stream",
     "text": [
      "The list containing the squares of elements from list1: [1, 4]\n",
      "The containing pairwise corresponding elements in the form of tuple: [(1, 'a'), (2, 'b')]\n",
      "The list containing all possible combinations of elements from the two lists: [(1, 'a'), (1, 'b'), (2, 'a'), (2, 'b')]\n",
      "The list containing elements of list1 and list2 alternatively: [1, 'a', 2, 'b']\n"
     ]
    }
   ],
   "source": [
    "# 6. List comprehension  : Given two lists of equal length, list1 contains the integers and list2 contains alphabets.\n",
    "#    Using list comprehension, WAP\n",
    "\n",
    "list1 =  [1,2] \n",
    "list2 = ['a','b']\n",
    "\n",
    "# 6.a:- To generate a list containing the squares of elements from list1.\n",
    "\n",
    "list3 = [ele**2 for ele in list1]\n",
    "print('The list containing the squares of elements from list1:', list3)\n",
    "\n",
    "# 6.b:- To generate a list containing pairwise corresponding elements in the form of tuple.\n",
    "\n",
    "list4 = [ele for ele in zip(list1, list2)]\n",
    "print('The containing pairwise corresponding elements in the form of tuple:', list4)\n",
    "\n",
    "# c) To generate a list containing all possible combinations of elements from the two lists.\n",
    "\n",
    "list5 = [(i, j) for i in list1 for j in list2]\n",
    "print('The list containing all possible combinations of elements from the two lists:', list5)\n",
    "\n",
    "# d) To generate a list containing elements of list1 and list2 alternatively.\n",
    "\n",
    "list6 = [ele1 for ele in zip(list1, list2) for ele1 in ele]\n",
    "print('The list containing elements of list1 and list2 alternatively:', list6)"
   ]
  },
  {
   "cell_type": "code",
   "execution_count": 2,
   "id": "15a8f639",
   "metadata": {},
   "outputs": [
    {
     "name": "stdout",
     "output_type": "stream",
     "text": [
      "Insert element at the specified index: [12, 23, 26, 34, 45, 56, 67]\n",
      "sorting the list in assending order: [12, 23, 26, 34, 45, 56, 67]\n",
      "Removing the specified index element: [12, 23, 26, 45, 56, 67]\n",
      "Reversing the list element [67, 56, 45, 26, 23, 12]\n",
      "Removing the specified element: [67, 45, 26, 23, 12]\n",
      "Adding a new element at the last of the list: [67, 45, 26, 23, 12, 78]\n",
      "Clearing the whole list: []\n"
     ]
    }
   ],
   "source": [
    "# 7. Find out the applicable methods for the list but not tuples. List them out.\n",
    "\n",
    "list1 = [12, 23, 34, 45, 56, 67]\n",
    "tuple1 = (12, 23, 34, 45, 56, 67)\n",
    "\n",
    "# insert()\n",
    "list1.insert(2, 26)\n",
    "print('Insert element at the specified index:',list1)\n",
    "\n",
    "# sort()\n",
    "list1.sort()\n",
    "print('sorting the list in assending order:',list1)\n",
    "\n",
    "# pop() \n",
    "list1.pop(3)\n",
    "print('Removing the specified index element:',list1)\n",
    "\n",
    "# reverse()\n",
    "list1.reverse()\n",
    "print('Reversing the list element',list1)\n",
    "\n",
    "# remove() \n",
    "list1.remove(56)\n",
    "print('Removing the specified element:',list1)\n",
    "\n",
    "# append()\n",
    "list1.append(78)\n",
    "print('Adding a new element at the last of the list:',list1)\n",
    "\n",
    "# clear()\n",
    "list1.clear()\n",
    "print('Clearing the whole list:', list1)"
   ]
  },
  {
   "cell_type": "code",
   "execution_count": 3,
   "id": "c5787eee",
   "metadata": {},
   "outputs": [
    {
     "name": "stdout",
     "output_type": "stream",
     "text": [
      "The required tuple is: (('D', 68), ('e', 101), ('s', 115), ('i', 105), ('g', 103), ('n', 110))\n"
     ]
    }
   ],
   "source": [
    "# 8. Write a code snippet in Python that takes a string as input and returns a tuple of tuples.\n",
    "#     Each inner tuple should contain a character from the input string and its corresponding ASCII value.\n",
    "\n",
    "Input_string = \"Design\"\n",
    "list1 = []\n",
    "for ele in Input_string:\n",
    "    val = ord(ele)\n",
    "    list1.append((ele, val))\n",
    "Output_tuple = tuple(list1)\n",
    "print('The required tuple is:', Output_tuple)"
   ]
  },
  {
   "cell_type": "code",
   "execution_count": 4,
   "id": "1c99b883",
   "metadata": {},
   "outputs": [
    {
     "name": "stdout",
     "output_type": "stream",
     "text": [
      "The mew list of tuples is: [('aditi', 1), ('oggy', 3)]\n"
     ]
    }
   ],
   "source": [
    "# 9. Create a program that takes a list of tuples containing student name and roll number\n",
    "# and returns a new list of tuples containing only those tuples whose first element is a vowel (a, e, i, o, u, A, E, I, O, U).\n",
    "\n",
    "list_of_tuples = [(\"aditi\", 1), (\"tanya\", 2), (\"oggy\", 3)]\n",
    "Output_list_of_tuples = []\n",
    "for ele in list_of_tuples:\n",
    "    if ele[0][0] in ('a', 'e', 'i', 'o', 'u', 'A', 'E', 'I', 'O', 'U'):\n",
    "        Output_list_of_tuples.append(ele)\n",
    "print('The mew list of tuples is:', Output_list_of_tuples)"
   ]
  },
  {
   "cell_type": "code",
   "execution_count": 5,
   "id": "19d7e215",
   "metadata": {},
   "outputs": [
    {
     "name": "stdout",
     "output_type": "stream",
     "text": [
      "The required set is: {3, 5, 6, 9, 10, 12, 15, 18, 20}\n"
     ]
    }
   ],
   "source": [
    "# 10. Create a set of all numbers between 1 and 20 that are either divisible by 3 or 5, using set comprehension.\n",
    "\n",
    "set1 = set()\n",
    "set1 = {ele for ele in range(1, 21) if((ele%3 == 0) or (ele%5 == 0))}\n",
    "print('The required set is:', set1)"
   ]
  },
  {
   "cell_type": "code",
   "execution_count": null,
   "id": "fdff192e",
   "metadata": {},
   "outputs": [],
   "source": []
  }
 ],
 "metadata": {
  "kernelspec": {
   "display_name": "Python 3 (ipykernel)",
   "language": "python",
   "name": "python3"
  },
  "language_info": {
   "codemirror_mode": {
    "name": "ipython",
    "version": 3
   },
   "file_extension": ".py",
   "mimetype": "text/x-python",
   "name": "python",
   "nbconvert_exporter": "python",
   "pygments_lexer": "ipython3",
   "version": "3.11.5"
  }
 },
 "nbformat": 4,
 "nbformat_minor": 5
}
