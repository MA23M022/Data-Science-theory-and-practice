{
 "cells": [
  {
   "cell_type": "code",
   "execution_count": 67,
   "id": "68605eab",
   "metadata": {},
   "outputs": [
    {
     "name": "stdout",
     "output_type": "stream",
     "text": [
      "The sorted dictionary is:\n",
      " {128: {'name': 'Rahul', 'salary': 32000, 'years of experience': 8}, 125: {'name': 'Sanjay', 'salary': 34000, 'years of experience': 12}, 120: {'name': 'Sourav', 'salary': 35000, 'years of experience': 10}}\n",
      "The required dictionary dictionary is:\n",
      " {128: {'name': 'Rahul', 'salary': 32000, 'years of experience': 8}, 125: {'name': 'Sanjay', 'salary': 34000, 'years of experience': 12}, 'years of experience': {'name': 'Soumen', 'salary': 34500, 'years of experience': 8}, 120: {'name': 'Sourav', 'salary': 35000, 'years of experience': 10}}\n"
     ]
    }
   ],
   "source": [
    "# 6. Store the employee IDs, names, salaries, and years of experience using nested dictionaries\n",
    "#    (the key of the highest level dictionary can be the employee ID). \n",
    "\n",
    "dict1 = {120:{'name':'Sourav', 'salary': 35000, 'years of experience': 10},\n",
    "         125:{'name':'Sanjay', 'salary': 34000, 'years of experience': 12},\n",
    "         128:{'name':'Rahul', 'salary': 32000, 'years of experience': 8}}\n",
    "\n",
    "# Q.6.a:- Sort this dictionary using the salary value. \n",
    "\n",
    "lst = []\n",
    "for key, value in dict1.items():\n",
    "    val = []\n",
    "    for key1, value1 in value.items():\n",
    "        val.append([key1, value1])\n",
    "    lst.append([key, val])\n",
    "        \n",
    "for ele in lst:\n",
    "    dummy = ele[0]\n",
    "    ele[0] = ele[1][1][1]\n",
    "    ele[1][1][1] = dummy\n",
    "    \n",
    "lst.sort()\n",
    "for ele in lst:\n",
    "    dummy = ele[0]\n",
    "    ele[0] = ele[1][1][1]\n",
    "    ele[1][1][1] = dummy\n",
    "\n",
    "dict2 = {}\n",
    "for ele in lst:\n",
    "    dict2[ele[0]] = dict(ele[1])\n",
    "    \n",
    "print('The sorted dictionary is:\\n', dict2)\n",
    "\n",
    "# Q.6.b:- Add a new employee to the dictionary in the correct position (sorted as mentioned above).\n",
    "\n",
    "dict3 = {'name':'Soumen', 'salary': 34500, 'years of experience': 8}\n",
    "key1 = 129\n",
    "\n",
    "lst = []\n",
    "for key, value in dict2.items():\n",
    "    val = []\n",
    "    for key1, value1 in value.items():\n",
    "        val.append([key1, value1])\n",
    "    lst.append([key, val])  \n",
    "\n",
    "i = 0\n",
    "for ele in lst:\n",
    "    if(dict3['salary']>ele[1][1][1]):\n",
    "        i = i + 1\n",
    "    else:\n",
    "        lst.insert(i, [key1, dict3])\n",
    "        break\n",
    "        \n",
    "if(i == len(lst)):\n",
    "    lst.append()\n",
    "\n",
    "dict4 = {}\n",
    "for ele in lst:\n",
    "    dict4[ele[0]] = dict(ele[1])\n",
    "    \n",
    "print('The required dictionary dictionary is:\\n', dict4)"
   ]
  },
  {
   "cell_type": "code",
   "execution_count": 6,
   "id": "e0eaceb2",
   "metadata": {},
   "outputs": [
    {
     "name": "stdout",
     "output_type": "stream",
     "text": [
      "The required dictionary is: {'a': 3, 'b': 7, 'c': 11, 'd': 9, 'i': 2, 's': 23}\n"
     ]
    }
   ],
   "source": [
    "# Q.7. You are given two Python dictionaries, A and B, with keys as alphabets and values as random integers.\n",
    "#       Write a Python function to create a third dictionary C, that combines A and B.\n",
    "#        For common keys, the value in C should be the sum of values from A and B. \n",
    "\n",
    "#  For example, if dictionary A is {\"a\": 3, \"b\": 5, \"c\": 7} and dictionary B is {\"b\": 2, \"c\": 4, \"d\": 6}, \n",
    "#            the function should return a dictionary C that looks like {\"a\": 3, \"b\": 7, \"c\": 11, \"d\": 6}.\n",
    "\n",
    "\n",
    "def combine(dict1, dict2):\n",
    "    lst1 = []\n",
    "    for key, value in dict1.items():\n",
    "        lst1.append([key, value])\n",
    "    lst1.sort()\n",
    "        \n",
    "    lst2 = []\n",
    "    for key, value in dict2.items():\n",
    "        lst2.append([key, value])\n",
    "    lst2.sort()\n",
    "        \n",
    "    lst3 = []\n",
    "    ptr1 = 0\n",
    "    ptr2 = 0\n",
    "    length1 = len(lst1)\n",
    "    length2 = len(lst2)\n",
    "    while((ptr1 < length1) and (ptr2 < length2)):\n",
    "        if(ord(lst1[ptr1][0]) == ord(lst2[ptr2][0])):\n",
    "            lst3.append([lst1[ptr1][0], (lst1[ptr1][1]+lst2[ptr2][1])])\n",
    "            ptr1 += 1\n",
    "            ptr2 += 1\n",
    "        elif(ord(lst1[ptr1][0]) < ord(lst2[ptr2][0])):\n",
    "            lst3.append([lst1[ptr1][0], lst1[ptr1][1]])\n",
    "            ptr1 += 1\n",
    "        else:\n",
    "            lst3.append([lst2[ptr2][0], lst2[ptr2][1]])\n",
    "            ptr2 += 1\n",
    "            \n",
    "    if(ptr1 != (length1-1)):\n",
    "        for i in range(ptr1, length1):\n",
    "            lst3.append([lst1[i][0], lst1[i][1]])\n",
    "            \n",
    "    if(ptr1 != (length2-1)):\n",
    "        for i in range(ptr2, length2):\n",
    "            lst3.append([lst2[i][0], lst2[i][1]])\n",
    "            \n",
    "    dict3 = dict(lst3)\n",
    "    return dict3\n",
    "\n",
    "A = {\"a\": 3, \"b\": 5, \"c\": 7, \"d\": 3, \"i\": 2, \"s\": 23} \n",
    "B = {\"b\": 2, \"c\": 4, \"d\": 6}\n",
    "\n",
    "C = combine(A, B)\n",
    "print('The required dictionary is:', C)"
   ]
  },
  {
   "cell_type": "code",
   "execution_count": 58,
   "id": "02210223",
   "metadata": {},
   "outputs": [
    {
     "name": "stdout",
     "output_type": "stream",
     "text": [
      "The required list is: [{'S': 1}, {3: 2}, {1: 4}, {'M': 25}]\n"
     ]
    }
   ],
   "source": [
    "# Q.8. Assume you have a list of lists, where each inner list contains two elements: a key and a value.\n",
    "#      Write a Python function that takes the list of lists as input and returns a list of dictionaries,\n",
    "#       where each dictionary contains a key-value pair from the original input list.\n",
    "\n",
    "def convert(lst):\n",
    "    lst1 = []\n",
    "    for ele in lst:\n",
    "        dict1 = {}\n",
    "        dict1[ele[0]] = ele[1]\n",
    "        lst1.append(dict1)\n",
    "    return lst1\n",
    "\n",
    "list_of_list = [['S', 1], [3, 2], [1, 4], ['M', 25]]\n",
    "modified_list = convert(list_of_list)\n",
    "print('The required list is:', modified_list)"
   ]
  },
  {
   "cell_type": "code",
   "execution_count": 64,
   "id": "e091211b",
   "metadata": {},
   "outputs": [
    {
     "name": "stdout",
     "output_type": "stream",
     "text": [
      "The roll number of Sourav is Ma23M022\n",
      "The roll number of Rahul is MA23M027\n",
      "The roll number of Sanjay is MA23M029\n"
     ]
    }
   ],
   "source": [
    "# Q.9. Illustrate the usage of positional and keyword arguments using suitable examples.\n",
    "\n",
    "def Details(name, rollno):\n",
    "    print(f\"The roll number of {name} is {rollno}\")\n",
    "    \n",
    "Details('Sourav' , 'Ma23M022')     # Using positional arguments.\n",
    "\n",
    "Details(name = 'Rahul', rollno = 'MA23M027')   # Using keyword arguments.\n",
    "\n",
    "Details('Sanjay', rollno = 'MA23M029')    # using keyword and positional arguments.\n",
    "                                          # Here keywords arguments follows positional arguments."
   ]
  },
  {
   "cell_type": "code",
   "execution_count": 60,
   "id": "01e52aa6",
   "metadata": {},
   "outputs": [
    {
     "name": "stdout",
     "output_type": "stream",
     "text": [
      "The maximum value is: 8\n"
     ]
    }
   ],
   "source": [
    "# Q.10. Write a function to find the maximum of n numbers using variable length positional arguments.\n",
    "\n",
    "def pos_arg(*args):\n",
    "    \n",
    "    lst = list(*args)\n",
    "    length = len(lst)\n",
    "\n",
    "    if(length == 0):\n",
    "        return None\n",
    "    else:\n",
    "        max1 = lst[0]\n",
    "        for i in range(1, length):\n",
    "            if(lst[i] > max1):\n",
    "                max1 = lst[i]\n",
    "        return max1\n",
    "    \n",
    "lst1 = [2, 4, 8, 5]\n",
    "maximum = pos_arg(lst1)\n",
    "if(maximum):\n",
    "    print('The maximum value is:', maximum)\n",
    "else:\n",
    "    print('The list has no element to find maximum element.')"
   ]
  },
  {
   "cell_type": "code",
   "execution_count": 65,
   "id": "b795c186",
   "metadata": {},
   "outputs": [
    {
     "name": "stdout",
     "output_type": "stream",
     "text": [
      "The required string is: Sourav Majhi \n"
     ]
    }
   ],
   "source": [
    "# Q.11. Write a function to concatenate n strings using variable length keyword arguments.\n",
    "\n",
    "def key_args(**kwargs):\n",
    "    str1 = ''\n",
    "    for key, value in kwargs.items():\n",
    "        str1 += value\n",
    "        str1 += \" \"\n",
    "    return str1\n",
    "\n",
    "val = key_args(key1 = 'Sourav', key2 = 'Majhi')\n",
    "print('The required string is:', val)"
   ]
  },
  {
   "cell_type": "code",
   "execution_count": null,
   "id": "d7100d7d",
   "metadata": {},
   "outputs": [],
   "source": []
  }
 ],
 "metadata": {
  "kernelspec": {
   "display_name": "Python 3 (ipykernel)",
   "language": "python",
   "name": "python3"
  },
  "language_info": {
   "codemirror_mode": {
    "name": "ipython",
    "version": 3
   },
   "file_extension": ".py",
   "mimetype": "text/x-python",
   "name": "python",
   "nbconvert_exporter": "python",
   "pygments_lexer": "ipython3",
   "version": "3.11.5"
  }
 },
 "nbformat": 4,
 "nbformat_minor": 5
}
